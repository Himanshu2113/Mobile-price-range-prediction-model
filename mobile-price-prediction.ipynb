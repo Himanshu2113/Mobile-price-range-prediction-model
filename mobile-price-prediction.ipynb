{
 "cells": [
  {
   "cell_type": "code",
   "execution_count": 1,
   "id": "d32de511",
   "metadata": {
    "execution": {
     "iopub.execute_input": "2024-09-07T18:06:34.011871Z",
     "iopub.status.busy": "2024-09-07T18:06:34.011328Z",
     "iopub.status.idle": "2024-09-07T18:06:35.123378Z",
     "shell.execute_reply": "2024-09-07T18:06:35.121358Z"
    },
    "papermill": {
     "duration": 1.131049,
     "end_time": "2024-09-07T18:06:35.127112",
     "exception": false,
     "start_time": "2024-09-07T18:06:33.996063",
     "status": "completed"
    },
    "tags": []
   },
   "outputs": [
    {
     "name": "stdout",
     "output_type": "stream",
     "text": [
      "/kaggle/input/mobile-price-range/train.csv\n",
      "/kaggle/input/mobile-price-range/test.csv\n"
     ]
    }
   ],
   "source": [
    "# This Python 3 environment comes with many helpful analytics libraries installed\n",
    "# It is defined by the kaggle/python Docker image: https://github.com/kaggle/docker-python\n",
    "# For example, here's several helpful packages to load\n",
    "\n",
    "import numpy as np # linear algebra\n",
    "import pandas as pd # data processing, CSV file I/O (e.g. pd.read_csv)\n",
    "\n",
    "# Input data files are available in the read-only \"../input/\" directory\n",
    "# For example, running this (by clicking run or pressing Shift+Enter) will list all files under the input directory\n",
    "\n",
    "import os\n",
    "for dirname, _, filenames in os.walk('/kaggle/input'):\n",
    "    for filename in filenames:\n",
    "        print(os.path.join(dirname, filename))\n",
    "\n",
    "# You can write up to 20GB to the current directory (/kaggle/working/) that gets preserved as output when you create a version using \"Save & Run All\" \n",
    "# You can also write temporary files to /kaggle/temp/, but they won't be saved outside of the current session"
   ]
  },
  {
   "cell_type": "code",
   "execution_count": 2,
   "id": "01638481",
   "metadata": {
    "execution": {
     "iopub.execute_input": "2024-09-07T18:06:35.162944Z",
     "iopub.status.busy": "2024-09-07T18:06:35.162210Z",
     "iopub.status.idle": "2024-09-07T18:06:35.218365Z",
     "shell.execute_reply": "2024-09-07T18:06:35.216938Z"
    },
    "papermill": {
     "duration": 0.077235,
     "end_time": "2024-09-07T18:06:35.221617",
     "exception": false,
     "start_time": "2024-09-07T18:06:35.144382",
     "status": "completed"
    },
    "tags": []
   },
   "outputs": [],
   "source": [
    "df_train=pd.read_csv('/kaggle/input/mobile-price-range/train.csv')\n",
    "df_test=pd.read_csv('/kaggle/input/mobile-price-range/test.csv')"
   ]
  },
  {
   "cell_type": "code",
   "execution_count": 3,
   "id": "05fa970a",
   "metadata": {
    "execution": {
     "iopub.execute_input": "2024-09-07T18:06:35.250808Z",
     "iopub.status.busy": "2024-09-07T18:06:35.250308Z",
     "iopub.status.idle": "2024-09-07T18:06:35.302319Z",
     "shell.execute_reply": "2024-09-07T18:06:35.300949Z"
    },
    "papermill": {
     "duration": 0.070717,
     "end_time": "2024-09-07T18:06:35.305801",
     "exception": false,
     "start_time": "2024-09-07T18:06:35.235084",
     "status": "completed"
    },
    "tags": []
   },
   "outputs": [
    {
     "data": {
      "text/html": [
       "<div>\n",
       "<style scoped>\n",
       "    .dataframe tbody tr th:only-of-type {\n",
       "        vertical-align: middle;\n",
       "    }\n",
       "\n",
       "    .dataframe tbody tr th {\n",
       "        vertical-align: top;\n",
       "    }\n",
       "\n",
       "    .dataframe thead th {\n",
       "        text-align: right;\n",
       "    }\n",
       "</style>\n",
       "<table border=\"1\" class=\"dataframe\">\n",
       "  <thead>\n",
       "    <tr style=\"text-align: right;\">\n",
       "      <th></th>\n",
       "      <th>battery_power</th>\n",
       "      <th>blue</th>\n",
       "      <th>clock_speed</th>\n",
       "      <th>dual_sim</th>\n",
       "      <th>fc</th>\n",
       "      <th>four_g</th>\n",
       "      <th>int_memory</th>\n",
       "      <th>m_dep</th>\n",
       "      <th>mobile_wt</th>\n",
       "      <th>n_cores</th>\n",
       "      <th>...</th>\n",
       "      <th>px_height</th>\n",
       "      <th>px_width</th>\n",
       "      <th>ram</th>\n",
       "      <th>sc_h</th>\n",
       "      <th>sc_w</th>\n",
       "      <th>talk_time</th>\n",
       "      <th>three_g</th>\n",
       "      <th>touch_screen</th>\n",
       "      <th>wifi</th>\n",
       "      <th>price_range</th>\n",
       "    </tr>\n",
       "  </thead>\n",
       "  <tbody>\n",
       "    <tr>\n",
       "      <th>1442</th>\n",
       "      <td>973</td>\n",
       "      <td>0</td>\n",
       "      <td>0.5</td>\n",
       "      <td>1</td>\n",
       "      <td>5</td>\n",
       "      <td>0</td>\n",
       "      <td>53</td>\n",
       "      <td>0.5</td>\n",
       "      <td>196</td>\n",
       "      <td>5</td>\n",
       "      <td>...</td>\n",
       "      <td>105</td>\n",
       "      <td>588</td>\n",
       "      <td>1861</td>\n",
       "      <td>13</td>\n",
       "      <td>10</td>\n",
       "      <td>16</td>\n",
       "      <td>0</td>\n",
       "      <td>1</td>\n",
       "      <td>0</td>\n",
       "      <td>1</td>\n",
       "    </tr>\n",
       "    <tr>\n",
       "      <th>959</th>\n",
       "      <td>1569</td>\n",
       "      <td>0</td>\n",
       "      <td>0.5</td>\n",
       "      <td>1</td>\n",
       "      <td>3</td>\n",
       "      <td>0</td>\n",
       "      <td>33</td>\n",
       "      <td>0.2</td>\n",
       "      <td>147</td>\n",
       "      <td>1</td>\n",
       "      <td>...</td>\n",
       "      <td>519</td>\n",
       "      <td>930</td>\n",
       "      <td>3538</td>\n",
       "      <td>18</td>\n",
       "      <td>1</td>\n",
       "      <td>15</td>\n",
       "      <td>1</td>\n",
       "      <td>0</td>\n",
       "      <td>1</td>\n",
       "      <td>3</td>\n",
       "    </tr>\n",
       "    <tr>\n",
       "      <th>1332</th>\n",
       "      <td>614</td>\n",
       "      <td>0</td>\n",
       "      <td>2.9</td>\n",
       "      <td>1</td>\n",
       "      <td>3</td>\n",
       "      <td>1</td>\n",
       "      <td>24</td>\n",
       "      <td>0.2</td>\n",
       "      <td>94</td>\n",
       "      <td>4</td>\n",
       "      <td>...</td>\n",
       "      <td>409</td>\n",
       "      <td>603</td>\n",
       "      <td>1930</td>\n",
       "      <td>13</td>\n",
       "      <td>12</td>\n",
       "      <td>4</td>\n",
       "      <td>1</td>\n",
       "      <td>0</td>\n",
       "      <td>1</td>\n",
       "      <td>1</td>\n",
       "    </tr>\n",
       "    <tr>\n",
       "      <th>492</th>\n",
       "      <td>857</td>\n",
       "      <td>1</td>\n",
       "      <td>2.0</td>\n",
       "      <td>1</td>\n",
       "      <td>3</td>\n",
       "      <td>0</td>\n",
       "      <td>17</td>\n",
       "      <td>0.2</td>\n",
       "      <td>195</td>\n",
       "      <td>7</td>\n",
       "      <td>...</td>\n",
       "      <td>157</td>\n",
       "      <td>948</td>\n",
       "      <td>3100</td>\n",
       "      <td>17</td>\n",
       "      <td>5</td>\n",
       "      <td>13</td>\n",
       "      <td>1</td>\n",
       "      <td>1</td>\n",
       "      <td>0</td>\n",
       "      <td>2</td>\n",
       "    </tr>\n",
       "    <tr>\n",
       "      <th>331</th>\n",
       "      <td>1867</td>\n",
       "      <td>0</td>\n",
       "      <td>2.3</td>\n",
       "      <td>0</td>\n",
       "      <td>0</td>\n",
       "      <td>1</td>\n",
       "      <td>9</td>\n",
       "      <td>0.1</td>\n",
       "      <td>191</td>\n",
       "      <td>6</td>\n",
       "      <td>...</td>\n",
       "      <td>712</td>\n",
       "      <td>1442</td>\n",
       "      <td>990</td>\n",
       "      <td>6</td>\n",
       "      <td>1</td>\n",
       "      <td>2</td>\n",
       "      <td>1</td>\n",
       "      <td>0</td>\n",
       "      <td>1</td>\n",
       "      <td>1</td>\n",
       "    </tr>\n",
       "  </tbody>\n",
       "</table>\n",
       "<p>5 rows × 21 columns</p>\n",
       "</div>"
      ],
      "text/plain": [
       "      battery_power  blue  clock_speed  dual_sim  fc  four_g  int_memory  \\\n",
       "1442            973     0          0.5         1   5       0          53   \n",
       "959            1569     0          0.5         1   3       0          33   \n",
       "1332            614     0          2.9         1   3       1          24   \n",
       "492             857     1          2.0         1   3       0          17   \n",
       "331            1867     0          2.3         0   0       1           9   \n",
       "\n",
       "      m_dep  mobile_wt  n_cores  ...  px_height  px_width   ram  sc_h  sc_w  \\\n",
       "1442    0.5        196        5  ...        105       588  1861    13    10   \n",
       "959     0.2        147        1  ...        519       930  3538    18     1   \n",
       "1332    0.2         94        4  ...        409       603  1930    13    12   \n",
       "492     0.2        195        7  ...        157       948  3100    17     5   \n",
       "331     0.1        191        6  ...        712      1442   990     6     1   \n",
       "\n",
       "      talk_time  three_g  touch_screen  wifi  price_range  \n",
       "1442         16        0             1     0            1  \n",
       "959          15        1             0     1            3  \n",
       "1332          4        1             0     1            1  \n",
       "492          13        1             1     0            2  \n",
       "331           2        1             0     1            1  \n",
       "\n",
       "[5 rows x 21 columns]"
      ]
     },
     "execution_count": 3,
     "metadata": {},
     "output_type": "execute_result"
    }
   ],
   "source": [
    "df_train.sample(5)"
   ]
  },
  {
   "cell_type": "code",
   "execution_count": 4,
   "id": "fc36352b",
   "metadata": {
    "execution": {
     "iopub.execute_input": "2024-09-07T18:06:35.338250Z",
     "iopub.status.busy": "2024-09-07T18:06:35.336579Z",
     "iopub.status.idle": "2024-09-07T18:06:35.363214Z",
     "shell.execute_reply": "2024-09-07T18:06:35.361787Z"
    },
    "papermill": {
     "duration": 0.046179,
     "end_time": "2024-09-07T18:06:35.366845",
     "exception": false,
     "start_time": "2024-09-07T18:06:35.320666",
     "status": "completed"
    },
    "tags": []
   },
   "outputs": [
    {
     "data": {
      "text/html": [
       "<div>\n",
       "<style scoped>\n",
       "    .dataframe tbody tr th:only-of-type {\n",
       "        vertical-align: middle;\n",
       "    }\n",
       "\n",
       "    .dataframe tbody tr th {\n",
       "        vertical-align: top;\n",
       "    }\n",
       "\n",
       "    .dataframe thead th {\n",
       "        text-align: right;\n",
       "    }\n",
       "</style>\n",
       "<table border=\"1\" class=\"dataframe\">\n",
       "  <thead>\n",
       "    <tr style=\"text-align: right;\">\n",
       "      <th></th>\n",
       "      <th>id</th>\n",
       "      <th>battery_power</th>\n",
       "      <th>blue</th>\n",
       "      <th>clock_speed</th>\n",
       "      <th>dual_sim</th>\n",
       "      <th>fc</th>\n",
       "      <th>four_g</th>\n",
       "      <th>int_memory</th>\n",
       "      <th>m_dep</th>\n",
       "      <th>mobile_wt</th>\n",
       "      <th>...</th>\n",
       "      <th>pc</th>\n",
       "      <th>px_height</th>\n",
       "      <th>px_width</th>\n",
       "      <th>ram</th>\n",
       "      <th>sc_h</th>\n",
       "      <th>sc_w</th>\n",
       "      <th>talk_time</th>\n",
       "      <th>three_g</th>\n",
       "      <th>touch_screen</th>\n",
       "      <th>wifi</th>\n",
       "    </tr>\n",
       "  </thead>\n",
       "  <tbody>\n",
       "    <tr>\n",
       "      <th>410</th>\n",
       "      <td>411</td>\n",
       "      <td>861</td>\n",
       "      <td>0</td>\n",
       "      <td>0.5</td>\n",
       "      <td>0</td>\n",
       "      <td>0</td>\n",
       "      <td>0</td>\n",
       "      <td>64</td>\n",
       "      <td>0.8</td>\n",
       "      <td>105</td>\n",
       "      <td>...</td>\n",
       "      <td>1</td>\n",
       "      <td>1376</td>\n",
       "      <td>1864</td>\n",
       "      <td>600</td>\n",
       "      <td>15</td>\n",
       "      <td>1</td>\n",
       "      <td>12</td>\n",
       "      <td>0</td>\n",
       "      <td>1</td>\n",
       "      <td>0</td>\n",
       "    </tr>\n",
       "    <tr>\n",
       "      <th>353</th>\n",
       "      <td>354</td>\n",
       "      <td>649</td>\n",
       "      <td>0</td>\n",
       "      <td>1.9</td>\n",
       "      <td>0</td>\n",
       "      <td>0</td>\n",
       "      <td>0</td>\n",
       "      <td>51</td>\n",
       "      <td>0.6</td>\n",
       "      <td>179</td>\n",
       "      <td>...</td>\n",
       "      <td>12</td>\n",
       "      <td>1174</td>\n",
       "      <td>1388</td>\n",
       "      <td>3446</td>\n",
       "      <td>11</td>\n",
       "      <td>5</td>\n",
       "      <td>18</td>\n",
       "      <td>0</td>\n",
       "      <td>1</td>\n",
       "      <td>1</td>\n",
       "    </tr>\n",
       "    <tr>\n",
       "      <th>304</th>\n",
       "      <td>305</td>\n",
       "      <td>1210</td>\n",
       "      <td>1</td>\n",
       "      <td>2.3</td>\n",
       "      <td>0</td>\n",
       "      <td>0</td>\n",
       "      <td>0</td>\n",
       "      <td>63</td>\n",
       "      <td>0.9</td>\n",
       "      <td>141</td>\n",
       "      <td>...</td>\n",
       "      <td>4</td>\n",
       "      <td>51</td>\n",
       "      <td>1761</td>\n",
       "      <td>977</td>\n",
       "      <td>14</td>\n",
       "      <td>6</td>\n",
       "      <td>20</td>\n",
       "      <td>1</td>\n",
       "      <td>0</td>\n",
       "      <td>0</td>\n",
       "    </tr>\n",
       "    <tr>\n",
       "      <th>245</th>\n",
       "      <td>246</td>\n",
       "      <td>1927</td>\n",
       "      <td>1</td>\n",
       "      <td>2.1</td>\n",
       "      <td>0</td>\n",
       "      <td>0</td>\n",
       "      <td>0</td>\n",
       "      <td>5</td>\n",
       "      <td>0.9</td>\n",
       "      <td>139</td>\n",
       "      <td>...</td>\n",
       "      <td>1</td>\n",
       "      <td>603</td>\n",
       "      <td>1228</td>\n",
       "      <td>2913</td>\n",
       "      <td>15</td>\n",
       "      <td>10</td>\n",
       "      <td>8</td>\n",
       "      <td>0</td>\n",
       "      <td>0</td>\n",
       "      <td>0</td>\n",
       "    </tr>\n",
       "    <tr>\n",
       "      <th>597</th>\n",
       "      <td>598</td>\n",
       "      <td>1038</td>\n",
       "      <td>1</td>\n",
       "      <td>1.8</td>\n",
       "      <td>0</td>\n",
       "      <td>1</td>\n",
       "      <td>1</td>\n",
       "      <td>42</td>\n",
       "      <td>0.2</td>\n",
       "      <td>150</td>\n",
       "      <td>...</td>\n",
       "      <td>11</td>\n",
       "      <td>79</td>\n",
       "      <td>1186</td>\n",
       "      <td>3984</td>\n",
       "      <td>14</td>\n",
       "      <td>9</td>\n",
       "      <td>20</td>\n",
       "      <td>1</td>\n",
       "      <td>0</td>\n",
       "      <td>0</td>\n",
       "    </tr>\n",
       "  </tbody>\n",
       "</table>\n",
       "<p>5 rows × 21 columns</p>\n",
       "</div>"
      ],
      "text/plain": [
       "      id  battery_power  blue  clock_speed  dual_sim  fc  four_g  int_memory  \\\n",
       "410  411            861     0          0.5         0   0       0          64   \n",
       "353  354            649     0          1.9         0   0       0          51   \n",
       "304  305           1210     1          2.3         0   0       0          63   \n",
       "245  246           1927     1          2.1         0   0       0           5   \n",
       "597  598           1038     1          1.8         0   1       1          42   \n",
       "\n",
       "     m_dep  mobile_wt  ...  pc  px_height  px_width   ram  sc_h  sc_w  \\\n",
       "410    0.8        105  ...   1       1376      1864   600    15     1   \n",
       "353    0.6        179  ...  12       1174      1388  3446    11     5   \n",
       "304    0.9        141  ...   4         51      1761   977    14     6   \n",
       "245    0.9        139  ...   1        603      1228  2913    15    10   \n",
       "597    0.2        150  ...  11         79      1186  3984    14     9   \n",
       "\n",
       "     talk_time  three_g  touch_screen  wifi  \n",
       "410         12        0             1     0  \n",
       "353         18        0             1     1  \n",
       "304         20        1             0     0  \n",
       "245          8        0             0     0  \n",
       "597         20        1             0     0  \n",
       "\n",
       "[5 rows x 21 columns]"
      ]
     },
     "execution_count": 4,
     "metadata": {},
     "output_type": "execute_result"
    }
   ],
   "source": [
    "df_test.sample(5)"
   ]
  },
  {
   "cell_type": "code",
   "execution_count": 5,
   "id": "ba4d0e2d",
   "metadata": {
    "execution": {
     "iopub.execute_input": "2024-09-07T18:06:35.398202Z",
     "iopub.status.busy": "2024-09-07T18:06:35.397806Z",
     "iopub.status.idle": "2024-09-07T18:06:35.403995Z",
     "shell.execute_reply": "2024-09-07T18:06:35.402442Z"
    },
    "papermill": {
     "duration": 0.025225,
     "end_time": "2024-09-07T18:06:35.407707",
     "exception": false,
     "start_time": "2024-09-07T18:06:35.382482",
     "status": "completed"
    },
    "tags": []
   },
   "outputs": [
    {
     "name": "stdout",
     "output_type": "stream",
     "text": [
      "(2000, 21) (1000, 21)\n"
     ]
    }
   ],
   "source": [
    "print(df_train.shape,df_test.shape)"
   ]
  },
  {
   "cell_type": "code",
   "execution_count": 6,
   "id": "d09d4591",
   "metadata": {
    "execution": {
     "iopub.execute_input": "2024-09-07T18:06:35.439174Z",
     "iopub.status.busy": "2024-09-07T18:06:35.438719Z",
     "iopub.status.idle": "2024-09-07T18:06:35.450124Z",
     "shell.execute_reply": "2024-09-07T18:06:35.448906Z"
    },
    "papermill": {
     "duration": 0.029738,
     "end_time": "2024-09-07T18:06:35.452917",
     "exception": false,
     "start_time": "2024-09-07T18:06:35.423179",
     "status": "completed"
    },
    "tags": []
   },
   "outputs": [
    {
     "data": {
      "text/plain": [
       "battery_power    0\n",
       "blue             0\n",
       "clock_speed      0\n",
       "dual_sim         0\n",
       "fc               0\n",
       "four_g           0\n",
       "int_memory       0\n",
       "m_dep            0\n",
       "mobile_wt        0\n",
       "n_cores          0\n",
       "pc               0\n",
       "px_height        0\n",
       "px_width         0\n",
       "ram              0\n",
       "sc_h             0\n",
       "sc_w             0\n",
       "talk_time        0\n",
       "three_g          0\n",
       "touch_screen     0\n",
       "wifi             0\n",
       "price_range      0\n",
       "dtype: int64"
      ]
     },
     "execution_count": 6,
     "metadata": {},
     "output_type": "execute_result"
    }
   ],
   "source": [
    "df_train.isnull().sum()"
   ]
  },
  {
   "cell_type": "code",
   "execution_count": 7,
   "id": "43eca9af",
   "metadata": {
    "execution": {
     "iopub.execute_input": "2024-09-07T18:06:35.483031Z",
     "iopub.status.busy": "2024-09-07T18:06:35.482616Z",
     "iopub.status.idle": "2024-09-07T18:06:35.557425Z",
     "shell.execute_reply": "2024-09-07T18:06:35.556240Z"
    },
    "papermill": {
     "duration": 0.093134,
     "end_time": "2024-09-07T18:06:35.560110",
     "exception": false,
     "start_time": "2024-09-07T18:06:35.466976",
     "status": "completed"
    },
    "tags": []
   },
   "outputs": [
    {
     "data": {
      "text/html": [
       "<div>\n",
       "<style scoped>\n",
       "    .dataframe tbody tr th:only-of-type {\n",
       "        vertical-align: middle;\n",
       "    }\n",
       "\n",
       "    .dataframe tbody tr th {\n",
       "        vertical-align: top;\n",
       "    }\n",
       "\n",
       "    .dataframe thead th {\n",
       "        text-align: right;\n",
       "    }\n",
       "</style>\n",
       "<table border=\"1\" class=\"dataframe\">\n",
       "  <thead>\n",
       "    <tr style=\"text-align: right;\">\n",
       "      <th></th>\n",
       "      <th>battery_power</th>\n",
       "      <th>blue</th>\n",
       "      <th>clock_speed</th>\n",
       "      <th>dual_sim</th>\n",
       "      <th>fc</th>\n",
       "      <th>four_g</th>\n",
       "      <th>int_memory</th>\n",
       "      <th>m_dep</th>\n",
       "      <th>mobile_wt</th>\n",
       "      <th>n_cores</th>\n",
       "      <th>...</th>\n",
       "      <th>px_height</th>\n",
       "      <th>px_width</th>\n",
       "      <th>ram</th>\n",
       "      <th>sc_h</th>\n",
       "      <th>sc_w</th>\n",
       "      <th>talk_time</th>\n",
       "      <th>three_g</th>\n",
       "      <th>touch_screen</th>\n",
       "      <th>wifi</th>\n",
       "      <th>price_range</th>\n",
       "    </tr>\n",
       "  </thead>\n",
       "  <tbody>\n",
       "    <tr>\n",
       "      <th>count</th>\n",
       "      <td>2000.000000</td>\n",
       "      <td>2000.0000</td>\n",
       "      <td>2000.000000</td>\n",
       "      <td>2000.000000</td>\n",
       "      <td>2000.000000</td>\n",
       "      <td>2000.000000</td>\n",
       "      <td>2000.000000</td>\n",
       "      <td>2000.000000</td>\n",
       "      <td>2000.000000</td>\n",
       "      <td>2000.000000</td>\n",
       "      <td>...</td>\n",
       "      <td>2000.000000</td>\n",
       "      <td>2000.000000</td>\n",
       "      <td>2000.000000</td>\n",
       "      <td>2000.000000</td>\n",
       "      <td>2000.000000</td>\n",
       "      <td>2000.000000</td>\n",
       "      <td>2000.000000</td>\n",
       "      <td>2000.000000</td>\n",
       "      <td>2000.000000</td>\n",
       "      <td>2000.000000</td>\n",
       "    </tr>\n",
       "    <tr>\n",
       "      <th>mean</th>\n",
       "      <td>1238.518500</td>\n",
       "      <td>0.4950</td>\n",
       "      <td>1.522250</td>\n",
       "      <td>0.509500</td>\n",
       "      <td>4.309500</td>\n",
       "      <td>0.521500</td>\n",
       "      <td>32.046500</td>\n",
       "      <td>0.501750</td>\n",
       "      <td>140.249000</td>\n",
       "      <td>4.520500</td>\n",
       "      <td>...</td>\n",
       "      <td>645.108000</td>\n",
       "      <td>1251.515500</td>\n",
       "      <td>2124.213000</td>\n",
       "      <td>12.306500</td>\n",
       "      <td>5.767000</td>\n",
       "      <td>11.011000</td>\n",
       "      <td>0.761500</td>\n",
       "      <td>0.503000</td>\n",
       "      <td>0.507000</td>\n",
       "      <td>1.500000</td>\n",
       "    </tr>\n",
       "    <tr>\n",
       "      <th>std</th>\n",
       "      <td>439.418206</td>\n",
       "      <td>0.5001</td>\n",
       "      <td>0.816004</td>\n",
       "      <td>0.500035</td>\n",
       "      <td>4.341444</td>\n",
       "      <td>0.499662</td>\n",
       "      <td>18.145715</td>\n",
       "      <td>0.288416</td>\n",
       "      <td>35.399655</td>\n",
       "      <td>2.287837</td>\n",
       "      <td>...</td>\n",
       "      <td>443.780811</td>\n",
       "      <td>432.199447</td>\n",
       "      <td>1084.732044</td>\n",
       "      <td>4.213245</td>\n",
       "      <td>4.356398</td>\n",
       "      <td>5.463955</td>\n",
       "      <td>0.426273</td>\n",
       "      <td>0.500116</td>\n",
       "      <td>0.500076</td>\n",
       "      <td>1.118314</td>\n",
       "    </tr>\n",
       "    <tr>\n",
       "      <th>min</th>\n",
       "      <td>501.000000</td>\n",
       "      <td>0.0000</td>\n",
       "      <td>0.500000</td>\n",
       "      <td>0.000000</td>\n",
       "      <td>0.000000</td>\n",
       "      <td>0.000000</td>\n",
       "      <td>2.000000</td>\n",
       "      <td>0.100000</td>\n",
       "      <td>80.000000</td>\n",
       "      <td>1.000000</td>\n",
       "      <td>...</td>\n",
       "      <td>0.000000</td>\n",
       "      <td>500.000000</td>\n",
       "      <td>256.000000</td>\n",
       "      <td>5.000000</td>\n",
       "      <td>0.000000</td>\n",
       "      <td>2.000000</td>\n",
       "      <td>0.000000</td>\n",
       "      <td>0.000000</td>\n",
       "      <td>0.000000</td>\n",
       "      <td>0.000000</td>\n",
       "    </tr>\n",
       "    <tr>\n",
       "      <th>25%</th>\n",
       "      <td>851.750000</td>\n",
       "      <td>0.0000</td>\n",
       "      <td>0.700000</td>\n",
       "      <td>0.000000</td>\n",
       "      <td>1.000000</td>\n",
       "      <td>0.000000</td>\n",
       "      <td>16.000000</td>\n",
       "      <td>0.200000</td>\n",
       "      <td>109.000000</td>\n",
       "      <td>3.000000</td>\n",
       "      <td>...</td>\n",
       "      <td>282.750000</td>\n",
       "      <td>874.750000</td>\n",
       "      <td>1207.500000</td>\n",
       "      <td>9.000000</td>\n",
       "      <td>2.000000</td>\n",
       "      <td>6.000000</td>\n",
       "      <td>1.000000</td>\n",
       "      <td>0.000000</td>\n",
       "      <td>0.000000</td>\n",
       "      <td>0.750000</td>\n",
       "    </tr>\n",
       "    <tr>\n",
       "      <th>50%</th>\n",
       "      <td>1226.000000</td>\n",
       "      <td>0.0000</td>\n",
       "      <td>1.500000</td>\n",
       "      <td>1.000000</td>\n",
       "      <td>3.000000</td>\n",
       "      <td>1.000000</td>\n",
       "      <td>32.000000</td>\n",
       "      <td>0.500000</td>\n",
       "      <td>141.000000</td>\n",
       "      <td>4.000000</td>\n",
       "      <td>...</td>\n",
       "      <td>564.000000</td>\n",
       "      <td>1247.000000</td>\n",
       "      <td>2146.500000</td>\n",
       "      <td>12.000000</td>\n",
       "      <td>5.000000</td>\n",
       "      <td>11.000000</td>\n",
       "      <td>1.000000</td>\n",
       "      <td>1.000000</td>\n",
       "      <td>1.000000</td>\n",
       "      <td>1.500000</td>\n",
       "    </tr>\n",
       "    <tr>\n",
       "      <th>75%</th>\n",
       "      <td>1615.250000</td>\n",
       "      <td>1.0000</td>\n",
       "      <td>2.200000</td>\n",
       "      <td>1.000000</td>\n",
       "      <td>7.000000</td>\n",
       "      <td>1.000000</td>\n",
       "      <td>48.000000</td>\n",
       "      <td>0.800000</td>\n",
       "      <td>170.000000</td>\n",
       "      <td>7.000000</td>\n",
       "      <td>...</td>\n",
       "      <td>947.250000</td>\n",
       "      <td>1633.000000</td>\n",
       "      <td>3064.500000</td>\n",
       "      <td>16.000000</td>\n",
       "      <td>9.000000</td>\n",
       "      <td>16.000000</td>\n",
       "      <td>1.000000</td>\n",
       "      <td>1.000000</td>\n",
       "      <td>1.000000</td>\n",
       "      <td>2.250000</td>\n",
       "    </tr>\n",
       "    <tr>\n",
       "      <th>max</th>\n",
       "      <td>1998.000000</td>\n",
       "      <td>1.0000</td>\n",
       "      <td>3.000000</td>\n",
       "      <td>1.000000</td>\n",
       "      <td>19.000000</td>\n",
       "      <td>1.000000</td>\n",
       "      <td>64.000000</td>\n",
       "      <td>1.000000</td>\n",
       "      <td>200.000000</td>\n",
       "      <td>8.000000</td>\n",
       "      <td>...</td>\n",
       "      <td>1960.000000</td>\n",
       "      <td>1998.000000</td>\n",
       "      <td>3998.000000</td>\n",
       "      <td>19.000000</td>\n",
       "      <td>18.000000</td>\n",
       "      <td>20.000000</td>\n",
       "      <td>1.000000</td>\n",
       "      <td>1.000000</td>\n",
       "      <td>1.000000</td>\n",
       "      <td>3.000000</td>\n",
       "    </tr>\n",
       "  </tbody>\n",
       "</table>\n",
       "<p>8 rows × 21 columns</p>\n",
       "</div>"
      ],
      "text/plain": [
       "       battery_power       blue  clock_speed     dual_sim           fc  \\\n",
       "count    2000.000000  2000.0000  2000.000000  2000.000000  2000.000000   \n",
       "mean     1238.518500     0.4950     1.522250     0.509500     4.309500   \n",
       "std       439.418206     0.5001     0.816004     0.500035     4.341444   \n",
       "min       501.000000     0.0000     0.500000     0.000000     0.000000   \n",
       "25%       851.750000     0.0000     0.700000     0.000000     1.000000   \n",
       "50%      1226.000000     0.0000     1.500000     1.000000     3.000000   \n",
       "75%      1615.250000     1.0000     2.200000     1.000000     7.000000   \n",
       "max      1998.000000     1.0000     3.000000     1.000000    19.000000   \n",
       "\n",
       "            four_g   int_memory        m_dep    mobile_wt      n_cores  ...  \\\n",
       "count  2000.000000  2000.000000  2000.000000  2000.000000  2000.000000  ...   \n",
       "mean      0.521500    32.046500     0.501750   140.249000     4.520500  ...   \n",
       "std       0.499662    18.145715     0.288416    35.399655     2.287837  ...   \n",
       "min       0.000000     2.000000     0.100000    80.000000     1.000000  ...   \n",
       "25%       0.000000    16.000000     0.200000   109.000000     3.000000  ...   \n",
       "50%       1.000000    32.000000     0.500000   141.000000     4.000000  ...   \n",
       "75%       1.000000    48.000000     0.800000   170.000000     7.000000  ...   \n",
       "max       1.000000    64.000000     1.000000   200.000000     8.000000  ...   \n",
       "\n",
       "         px_height     px_width          ram         sc_h         sc_w  \\\n",
       "count  2000.000000  2000.000000  2000.000000  2000.000000  2000.000000   \n",
       "mean    645.108000  1251.515500  2124.213000    12.306500     5.767000   \n",
       "std     443.780811   432.199447  1084.732044     4.213245     4.356398   \n",
       "min       0.000000   500.000000   256.000000     5.000000     0.000000   \n",
       "25%     282.750000   874.750000  1207.500000     9.000000     2.000000   \n",
       "50%     564.000000  1247.000000  2146.500000    12.000000     5.000000   \n",
       "75%     947.250000  1633.000000  3064.500000    16.000000     9.000000   \n",
       "max    1960.000000  1998.000000  3998.000000    19.000000    18.000000   \n",
       "\n",
       "         talk_time      three_g  touch_screen         wifi  price_range  \n",
       "count  2000.000000  2000.000000   2000.000000  2000.000000  2000.000000  \n",
       "mean     11.011000     0.761500      0.503000     0.507000     1.500000  \n",
       "std       5.463955     0.426273      0.500116     0.500076     1.118314  \n",
       "min       2.000000     0.000000      0.000000     0.000000     0.000000  \n",
       "25%       6.000000     1.000000      0.000000     0.000000     0.750000  \n",
       "50%      11.000000     1.000000      1.000000     1.000000     1.500000  \n",
       "75%      16.000000     1.000000      1.000000     1.000000     2.250000  \n",
       "max      20.000000     1.000000      1.000000     1.000000     3.000000  \n",
       "\n",
       "[8 rows x 21 columns]"
      ]
     },
     "execution_count": 7,
     "metadata": {},
     "output_type": "execute_result"
    }
   ],
   "source": [
    "df_train.describe()"
   ]
  },
  {
   "cell_type": "code",
   "execution_count": 8,
   "id": "c6a8d998",
   "metadata": {
    "execution": {
     "iopub.execute_input": "2024-09-07T18:06:35.591438Z",
     "iopub.status.busy": "2024-09-07T18:06:35.591025Z",
     "iopub.status.idle": "2024-09-07T18:06:37.112531Z",
     "shell.execute_reply": "2024-09-07T18:06:37.111235Z"
    },
    "papermill": {
     "duration": 1.540689,
     "end_time": "2024-09-07T18:06:37.115605",
     "exception": false,
     "start_time": "2024-09-07T18:06:35.574916",
     "status": "completed"
    },
    "tags": []
   },
   "outputs": [],
   "source": [
    "from sklearn.model_selection import train_test_split"
   ]
  },
  {
   "cell_type": "code",
   "execution_count": 9,
   "id": "fa971d39",
   "metadata": {
    "execution": {
     "iopub.execute_input": "2024-09-07T18:06:37.146900Z",
     "iopub.status.busy": "2024-09-07T18:06:37.146451Z",
     "iopub.status.idle": "2024-09-07T18:06:37.176514Z",
     "shell.execute_reply": "2024-09-07T18:06:37.175123Z"
    },
    "papermill": {
     "duration": 0.048734,
     "end_time": "2024-09-07T18:06:37.179206",
     "exception": false,
     "start_time": "2024-09-07T18:06:37.130472",
     "status": "completed"
    },
    "tags": []
   },
   "outputs": [
    {
     "data": {
      "text/html": [
       "<div>\n",
       "<style scoped>\n",
       "    .dataframe tbody tr th:only-of-type {\n",
       "        vertical-align: middle;\n",
       "    }\n",
       "\n",
       "    .dataframe tbody tr th {\n",
       "        vertical-align: top;\n",
       "    }\n",
       "\n",
       "    .dataframe thead th {\n",
       "        text-align: right;\n",
       "    }\n",
       "</style>\n",
       "<table border=\"1\" class=\"dataframe\">\n",
       "  <thead>\n",
       "    <tr style=\"text-align: right;\">\n",
       "      <th></th>\n",
       "      <th>battery_power</th>\n",
       "      <th>blue</th>\n",
       "      <th>clock_speed</th>\n",
       "      <th>dual_sim</th>\n",
       "      <th>fc</th>\n",
       "      <th>four_g</th>\n",
       "      <th>int_memory</th>\n",
       "      <th>m_dep</th>\n",
       "      <th>mobile_wt</th>\n",
       "      <th>n_cores</th>\n",
       "      <th>pc</th>\n",
       "      <th>px_height</th>\n",
       "      <th>px_width</th>\n",
       "      <th>ram</th>\n",
       "      <th>sc_h</th>\n",
       "      <th>sc_w</th>\n",
       "      <th>talk_time</th>\n",
       "      <th>three_g</th>\n",
       "      <th>touch_screen</th>\n",
       "      <th>wifi</th>\n",
       "    </tr>\n",
       "  </thead>\n",
       "  <tbody>\n",
       "    <tr>\n",
       "      <th>968</th>\n",
       "      <td>1923</td>\n",
       "      <td>0</td>\n",
       "      <td>0.5</td>\n",
       "      <td>1</td>\n",
       "      <td>7</td>\n",
       "      <td>0</td>\n",
       "      <td>46</td>\n",
       "      <td>0.5</td>\n",
       "      <td>191</td>\n",
       "      <td>1</td>\n",
       "      <td>10</td>\n",
       "      <td>767</td>\n",
       "      <td>1759</td>\n",
       "      <td>1489</td>\n",
       "      <td>10</td>\n",
       "      <td>9</td>\n",
       "      <td>3</td>\n",
       "      <td>1</td>\n",
       "      <td>1</td>\n",
       "      <td>1</td>\n",
       "    </tr>\n",
       "    <tr>\n",
       "      <th>1889</th>\n",
       "      <td>1090</td>\n",
       "      <td>1</td>\n",
       "      <td>2.3</td>\n",
       "      <td>0</td>\n",
       "      <td>1</td>\n",
       "      <td>1</td>\n",
       "      <td>8</td>\n",
       "      <td>0.6</td>\n",
       "      <td>128</td>\n",
       "      <td>8</td>\n",
       "      <td>8</td>\n",
       "      <td>1217</td>\n",
       "      <td>1670</td>\n",
       "      <td>3839</td>\n",
       "      <td>17</td>\n",
       "      <td>3</td>\n",
       "      <td>11</td>\n",
       "      <td>1</td>\n",
       "      <td>0</td>\n",
       "      <td>1</td>\n",
       "    </tr>\n",
       "    <tr>\n",
       "      <th>948</th>\n",
       "      <td>1631</td>\n",
       "      <td>0</td>\n",
       "      <td>0.5</td>\n",
       "      <td>0</td>\n",
       "      <td>2</td>\n",
       "      <td>1</td>\n",
       "      <td>13</td>\n",
       "      <td>0.5</td>\n",
       "      <td>166</td>\n",
       "      <td>2</td>\n",
       "      <td>16</td>\n",
       "      <td>960</td>\n",
       "      <td>1735</td>\n",
       "      <td>2173</td>\n",
       "      <td>12</td>\n",
       "      <td>3</td>\n",
       "      <td>8</td>\n",
       "      <td>1</td>\n",
       "      <td>1</td>\n",
       "      <td>0</td>\n",
       "    </tr>\n",
       "    <tr>\n",
       "      <th>963</th>\n",
       "      <td>1861</td>\n",
       "      <td>1</td>\n",
       "      <td>0.9</td>\n",
       "      <td>0</td>\n",
       "      <td>4</td>\n",
       "      <td>1</td>\n",
       "      <td>55</td>\n",
       "      <td>0.5</td>\n",
       "      <td>148</td>\n",
       "      <td>7</td>\n",
       "      <td>8</td>\n",
       "      <td>1698</td>\n",
       "      <td>1877</td>\n",
       "      <td>601</td>\n",
       "      <td>7</td>\n",
       "      <td>5</td>\n",
       "      <td>4</td>\n",
       "      <td>1</td>\n",
       "      <td>0</td>\n",
       "      <td>0</td>\n",
       "    </tr>\n",
       "    <tr>\n",
       "      <th>1787</th>\n",
       "      <td>1830</td>\n",
       "      <td>1</td>\n",
       "      <td>1.0</td>\n",
       "      <td>0</td>\n",
       "      <td>7</td>\n",
       "      <td>1</td>\n",
       "      <td>47</td>\n",
       "      <td>0.3</td>\n",
       "      <td>117</td>\n",
       "      <td>1</td>\n",
       "      <td>11</td>\n",
       "      <td>1191</td>\n",
       "      <td>1882</td>\n",
       "      <td>3362</td>\n",
       "      <td>13</td>\n",
       "      <td>10</td>\n",
       "      <td>11</td>\n",
       "      <td>1</td>\n",
       "      <td>0</td>\n",
       "      <td>0</td>\n",
       "    </tr>\n",
       "    <tr>\n",
       "      <th>...</th>\n",
       "      <td>...</td>\n",
       "      <td>...</td>\n",
       "      <td>...</td>\n",
       "      <td>...</td>\n",
       "      <td>...</td>\n",
       "      <td>...</td>\n",
       "      <td>...</td>\n",
       "      <td>...</td>\n",
       "      <td>...</td>\n",
       "      <td>...</td>\n",
       "      <td>...</td>\n",
       "      <td>...</td>\n",
       "      <td>...</td>\n",
       "      <td>...</td>\n",
       "      <td>...</td>\n",
       "      <td>...</td>\n",
       "      <td>...</td>\n",
       "      <td>...</td>\n",
       "      <td>...</td>\n",
       "      <td>...</td>\n",
       "    </tr>\n",
       "    <tr>\n",
       "      <th>1954</th>\n",
       "      <td>686</td>\n",
       "      <td>1</td>\n",
       "      <td>2.7</td>\n",
       "      <td>1</td>\n",
       "      <td>0</td>\n",
       "      <td>0</td>\n",
       "      <td>36</td>\n",
       "      <td>0.1</td>\n",
       "      <td>194</td>\n",
       "      <td>4</td>\n",
       "      <td>1</td>\n",
       "      <td>64</td>\n",
       "      <td>745</td>\n",
       "      <td>1503</td>\n",
       "      <td>10</td>\n",
       "      <td>0</td>\n",
       "      <td>13</td>\n",
       "      <td>0</td>\n",
       "      <td>0</td>\n",
       "      <td>0</td>\n",
       "    </tr>\n",
       "    <tr>\n",
       "      <th>1243</th>\n",
       "      <td>1180</td>\n",
       "      <td>1</td>\n",
       "      <td>1.2</td>\n",
       "      <td>0</td>\n",
       "      <td>5</td>\n",
       "      <td>1</td>\n",
       "      <td>50</td>\n",
       "      <td>1.0</td>\n",
       "      <td>144</td>\n",
       "      <td>4</td>\n",
       "      <td>20</td>\n",
       "      <td>925</td>\n",
       "      <td>1252</td>\n",
       "      <td>1464</td>\n",
       "      <td>7</td>\n",
       "      <td>3</td>\n",
       "      <td>20</td>\n",
       "      <td>1</td>\n",
       "      <td>1</td>\n",
       "      <td>1</td>\n",
       "    </tr>\n",
       "    <tr>\n",
       "      <th>1891</th>\n",
       "      <td>1367</td>\n",
       "      <td>0</td>\n",
       "      <td>2.9</td>\n",
       "      <td>0</td>\n",
       "      <td>4</td>\n",
       "      <td>0</td>\n",
       "      <td>56</td>\n",
       "      <td>0.8</td>\n",
       "      <td>176</td>\n",
       "      <td>2</td>\n",
       "      <td>6</td>\n",
       "      <td>36</td>\n",
       "      <td>642</td>\n",
       "      <td>299</td>\n",
       "      <td>6</td>\n",
       "      <td>2</td>\n",
       "      <td>10</td>\n",
       "      <td>0</td>\n",
       "      <td>1</td>\n",
       "      <td>0</td>\n",
       "    </tr>\n",
       "    <tr>\n",
       "      <th>1148</th>\n",
       "      <td>727</td>\n",
       "      <td>1</td>\n",
       "      <td>1.5</td>\n",
       "      <td>0</td>\n",
       "      <td>0</td>\n",
       "      <td>1</td>\n",
       "      <td>32</td>\n",
       "      <td>1.0</td>\n",
       "      <td>131</td>\n",
       "      <td>7</td>\n",
       "      <td>1</td>\n",
       "      <td>813</td>\n",
       "      <td>1377</td>\n",
       "      <td>1891</td>\n",
       "      <td>19</td>\n",
       "      <td>13</td>\n",
       "      <td>7</td>\n",
       "      <td>1</td>\n",
       "      <td>0</td>\n",
       "      <td>1</td>\n",
       "    </tr>\n",
       "    <tr>\n",
       "      <th>1137</th>\n",
       "      <td>921</td>\n",
       "      <td>0</td>\n",
       "      <td>0.6</td>\n",
       "      <td>1</td>\n",
       "      <td>1</td>\n",
       "      <td>0</td>\n",
       "      <td>60</td>\n",
       "      <td>0.1</td>\n",
       "      <td>83</td>\n",
       "      <td>2</td>\n",
       "      <td>3</td>\n",
       "      <td>1211</td>\n",
       "      <td>1229</td>\n",
       "      <td>1080</td>\n",
       "      <td>10</td>\n",
       "      <td>0</td>\n",
       "      <td>6</td>\n",
       "      <td>0</td>\n",
       "      <td>0</td>\n",
       "      <td>1</td>\n",
       "    </tr>\n",
       "  </tbody>\n",
       "</table>\n",
       "<p>1400 rows × 20 columns</p>\n",
       "</div>"
      ],
      "text/plain": [
       "      battery_power  blue  clock_speed  dual_sim  fc  four_g  int_memory  \\\n",
       "968            1923     0          0.5         1   7       0          46   \n",
       "1889           1090     1          2.3         0   1       1           8   \n",
       "948            1631     0          0.5         0   2       1          13   \n",
       "963            1861     1          0.9         0   4       1          55   \n",
       "1787           1830     1          1.0         0   7       1          47   \n",
       "...             ...   ...          ...       ...  ..     ...         ...   \n",
       "1954            686     1          2.7         1   0       0          36   \n",
       "1243           1180     1          1.2         0   5       1          50   \n",
       "1891           1367     0          2.9         0   4       0          56   \n",
       "1148            727     1          1.5         0   0       1          32   \n",
       "1137            921     0          0.6         1   1       0          60   \n",
       "\n",
       "      m_dep  mobile_wt  n_cores  pc  px_height  px_width   ram  sc_h  sc_w  \\\n",
       "968     0.5        191        1  10        767      1759  1489    10     9   \n",
       "1889    0.6        128        8   8       1217      1670  3839    17     3   \n",
       "948     0.5        166        2  16        960      1735  2173    12     3   \n",
       "963     0.5        148        7   8       1698      1877   601     7     5   \n",
       "1787    0.3        117        1  11       1191      1882  3362    13    10   \n",
       "...     ...        ...      ...  ..        ...       ...   ...   ...   ...   \n",
       "1954    0.1        194        4   1         64       745  1503    10     0   \n",
       "1243    1.0        144        4  20        925      1252  1464     7     3   \n",
       "1891    0.8        176        2   6         36       642   299     6     2   \n",
       "1148    1.0        131        7   1        813      1377  1891    19    13   \n",
       "1137    0.1         83        2   3       1211      1229  1080    10     0   \n",
       "\n",
       "      talk_time  three_g  touch_screen  wifi  \n",
       "968           3        1             1     1  \n",
       "1889         11        1             0     1  \n",
       "948           8        1             1     0  \n",
       "963           4        1             0     0  \n",
       "1787         11        1             0     0  \n",
       "...         ...      ...           ...   ...  \n",
       "1954         13        0             0     0  \n",
       "1243         20        1             1     1  \n",
       "1891         10        0             1     0  \n",
       "1148          7        1             0     1  \n",
       "1137          6        0             0     1  \n",
       "\n",
       "[1400 rows x 20 columns]"
      ]
     },
     "execution_count": 9,
     "metadata": {},
     "output_type": "execute_result"
    }
   ],
   "source": [
    "x_train,x_test,y_train,y_test=train_test_split(df_train.iloc[:,0:20],df_train.iloc[:,20],test_size=0.3)\n",
    "x_train"
   ]
  },
  {
   "cell_type": "markdown",
   "id": "8df02c8f",
   "metadata": {
    "papermill": {
     "duration": 0.014925,
     "end_time": "2024-09-07T18:06:37.209103",
     "exception": false,
     "start_time": "2024-09-07T18:06:37.194178",
     "status": "completed"
    },
    "tags": []
   },
   "source": [
    "# #Using Decision Tree Classifier"
   ]
  },
  {
   "cell_type": "code",
   "execution_count": 10,
   "id": "8daacfcf",
   "metadata": {
    "execution": {
     "iopub.execute_input": "2024-09-07T18:06:37.242321Z",
     "iopub.status.busy": "2024-09-07T18:06:37.241252Z",
     "iopub.status.idle": "2024-09-07T18:06:37.573370Z",
     "shell.execute_reply": "2024-09-07T18:06:37.571914Z"
    },
    "papermill": {
     "duration": 0.352604,
     "end_time": "2024-09-07T18:06:37.576926",
     "exception": false,
     "start_time": "2024-09-07T18:06:37.224322",
     "status": "completed"
    },
    "tags": []
   },
   "outputs": [],
   "source": [
    "from sklearn.tree import DecisionTreeClassifier\n",
    "from sklearn.metrics import accuracy_score"
   ]
  },
  {
   "cell_type": "code",
   "execution_count": 11,
   "id": "857ea955",
   "metadata": {
    "execution": {
     "iopub.execute_input": "2024-09-07T18:06:37.612009Z",
     "iopub.status.busy": "2024-09-07T18:06:37.611551Z",
     "iopub.status.idle": "2024-09-07T18:06:37.617844Z",
     "shell.execute_reply": "2024-09-07T18:06:37.616395Z"
    },
    "papermill": {
     "duration": 0.02677,
     "end_time": "2024-09-07T18:06:37.620840",
     "exception": false,
     "start_time": "2024-09-07T18:06:37.594070",
     "status": "completed"
    },
    "tags": []
   },
   "outputs": [],
   "source": [
    "model = DecisionTreeClassifier()"
   ]
  },
  {
   "cell_type": "code",
   "execution_count": 12,
   "id": "9f5b5fc1",
   "metadata": {
    "execution": {
     "iopub.execute_input": "2024-09-07T18:06:37.654928Z",
     "iopub.status.busy": "2024-09-07T18:06:37.654469Z",
     "iopub.status.idle": "2024-09-07T18:06:37.682536Z",
     "shell.execute_reply": "2024-09-07T18:06:37.681142Z"
    },
    "papermill": {
     "duration": 0.048291,
     "end_time": "2024-09-07T18:06:37.685603",
     "exception": false,
     "start_time": "2024-09-07T18:06:37.637312",
     "status": "completed"
    },
    "tags": []
   },
   "outputs": [
    {
     "data": {
      "text/html": [
       "<style>#sk-container-id-1 {color: black;background-color: white;}#sk-container-id-1 pre{padding: 0;}#sk-container-id-1 div.sk-toggleable {background-color: white;}#sk-container-id-1 label.sk-toggleable__label {cursor: pointer;display: block;width: 100%;margin-bottom: 0;padding: 0.3em;box-sizing: border-box;text-align: center;}#sk-container-id-1 label.sk-toggleable__label-arrow:before {content: \"▸\";float: left;margin-right: 0.25em;color: #696969;}#sk-container-id-1 label.sk-toggleable__label-arrow:hover:before {color: black;}#sk-container-id-1 div.sk-estimator:hover label.sk-toggleable__label-arrow:before {color: black;}#sk-container-id-1 div.sk-toggleable__content {max-height: 0;max-width: 0;overflow: hidden;text-align: left;background-color: #f0f8ff;}#sk-container-id-1 div.sk-toggleable__content pre {margin: 0.2em;color: black;border-radius: 0.25em;background-color: #f0f8ff;}#sk-container-id-1 input.sk-toggleable__control:checked~div.sk-toggleable__content {max-height: 200px;max-width: 100%;overflow: auto;}#sk-container-id-1 input.sk-toggleable__control:checked~label.sk-toggleable__label-arrow:before {content: \"▾\";}#sk-container-id-1 div.sk-estimator input.sk-toggleable__control:checked~label.sk-toggleable__label {background-color: #d4ebff;}#sk-container-id-1 div.sk-label input.sk-toggleable__control:checked~label.sk-toggleable__label {background-color: #d4ebff;}#sk-container-id-1 input.sk-hidden--visually {border: 0;clip: rect(1px 1px 1px 1px);clip: rect(1px, 1px, 1px, 1px);height: 1px;margin: -1px;overflow: hidden;padding: 0;position: absolute;width: 1px;}#sk-container-id-1 div.sk-estimator {font-family: monospace;background-color: #f0f8ff;border: 1px dotted black;border-radius: 0.25em;box-sizing: border-box;margin-bottom: 0.5em;}#sk-container-id-1 div.sk-estimator:hover {background-color: #d4ebff;}#sk-container-id-1 div.sk-parallel-item::after {content: \"\";width: 100%;border-bottom: 1px solid gray;flex-grow: 1;}#sk-container-id-1 div.sk-label:hover label.sk-toggleable__label {background-color: #d4ebff;}#sk-container-id-1 div.sk-serial::before {content: \"\";position: absolute;border-left: 1px solid gray;box-sizing: border-box;top: 0;bottom: 0;left: 50%;z-index: 0;}#sk-container-id-1 div.sk-serial {display: flex;flex-direction: column;align-items: center;background-color: white;padding-right: 0.2em;padding-left: 0.2em;position: relative;}#sk-container-id-1 div.sk-item {position: relative;z-index: 1;}#sk-container-id-1 div.sk-parallel {display: flex;align-items: stretch;justify-content: center;background-color: white;position: relative;}#sk-container-id-1 div.sk-item::before, #sk-container-id-1 div.sk-parallel-item::before {content: \"\";position: absolute;border-left: 1px solid gray;box-sizing: border-box;top: 0;bottom: 0;left: 50%;z-index: -1;}#sk-container-id-1 div.sk-parallel-item {display: flex;flex-direction: column;z-index: 1;position: relative;background-color: white;}#sk-container-id-1 div.sk-parallel-item:first-child::after {align-self: flex-end;width: 50%;}#sk-container-id-1 div.sk-parallel-item:last-child::after {align-self: flex-start;width: 50%;}#sk-container-id-1 div.sk-parallel-item:only-child::after {width: 0;}#sk-container-id-1 div.sk-dashed-wrapped {border: 1px dashed gray;margin: 0 0.4em 0.5em 0.4em;box-sizing: border-box;padding-bottom: 0.4em;background-color: white;}#sk-container-id-1 div.sk-label label {font-family: monospace;font-weight: bold;display: inline-block;line-height: 1.2em;}#sk-container-id-1 div.sk-label-container {text-align: center;}#sk-container-id-1 div.sk-container {/* jupyter's `normalize.less` sets `[hidden] { display: none; }` but bootstrap.min.css set `[hidden] { display: none !important; }` so we also need the `!important` here to be able to override the default hidden behavior on the sphinx rendered scikit-learn.org. See: https://github.com/scikit-learn/scikit-learn/issues/21755 */display: inline-block !important;position: relative;}#sk-container-id-1 div.sk-text-repr-fallback {display: none;}</style><div id=\"sk-container-id-1\" class=\"sk-top-container\"><div class=\"sk-text-repr-fallback\"><pre>DecisionTreeClassifier()</pre><b>In a Jupyter environment, please rerun this cell to show the HTML representation or trust the notebook. <br />On GitHub, the HTML representation is unable to render, please try loading this page with nbviewer.org.</b></div><div class=\"sk-container\" hidden><div class=\"sk-item\"><div class=\"sk-estimator sk-toggleable\"><input class=\"sk-toggleable__control sk-hidden--visually\" id=\"sk-estimator-id-1\" type=\"checkbox\" checked><label for=\"sk-estimator-id-1\" class=\"sk-toggleable__label sk-toggleable__label-arrow\">DecisionTreeClassifier</label><div class=\"sk-toggleable__content\"><pre>DecisionTreeClassifier()</pre></div></div></div></div></div>"
      ],
      "text/plain": [
       "DecisionTreeClassifier()"
      ]
     },
     "execution_count": 12,
     "metadata": {},
     "output_type": "execute_result"
    }
   ],
   "source": [
    "model.fit(x_train,y_train)"
   ]
  },
  {
   "cell_type": "code",
   "execution_count": 13,
   "id": "0f8cba85",
   "metadata": {
    "execution": {
     "iopub.execute_input": "2024-09-07T18:06:37.720904Z",
     "iopub.status.busy": "2024-09-07T18:06:37.720482Z",
     "iopub.status.idle": "2024-09-07T18:06:37.729491Z",
     "shell.execute_reply": "2024-09-07T18:06:37.727929Z"
    },
    "papermill": {
     "duration": 0.030754,
     "end_time": "2024-09-07T18:06:37.732429",
     "exception": false,
     "start_time": "2024-09-07T18:06:37.701675",
     "status": "completed"
    },
    "tags": []
   },
   "outputs": [],
   "source": [
    "y_pred=model.predict(x_test)"
   ]
  },
  {
   "cell_type": "code",
   "execution_count": 14,
   "id": "5ce3aa11",
   "metadata": {
    "execution": {
     "iopub.execute_input": "2024-09-07T18:06:37.768395Z",
     "iopub.status.busy": "2024-09-07T18:06:37.767986Z",
     "iopub.status.idle": "2024-09-07T18:06:37.778871Z",
     "shell.execute_reply": "2024-09-07T18:06:37.777383Z"
    },
    "papermill": {
     "duration": 0.03204,
     "end_time": "2024-09-07T18:06:37.781451",
     "exception": false,
     "start_time": "2024-09-07T18:06:37.749411",
     "status": "completed"
    },
    "tags": []
   },
   "outputs": [
    {
     "data": {
      "text/plain": [
       "0.795"
      ]
     },
     "execution_count": 14,
     "metadata": {},
     "output_type": "execute_result"
    }
   ],
   "source": [
    "accuracy_score(y_test,y_pred)"
   ]
  },
  {
   "cell_type": "code",
   "execution_count": 15,
   "id": "ea84dd12",
   "metadata": {
    "execution": {
     "iopub.execute_input": "2024-09-07T18:06:37.815270Z",
     "iopub.status.busy": "2024-09-07T18:06:37.814777Z",
     "iopub.status.idle": "2024-09-07T18:06:37.820535Z",
     "shell.execute_reply": "2024-09-07T18:06:37.819072Z"
    },
    "papermill": {
     "duration": 0.026438,
     "end_time": "2024-09-07T18:06:37.823673",
     "exception": false,
     "start_time": "2024-09-07T18:06:37.797235",
     "status": "completed"
    },
    "tags": []
   },
   "outputs": [],
   "source": [
    "from sklearn.tree import plot_tree\n",
    "import matplotlib.pyplot as plt"
   ]
  },
  {
   "cell_type": "code",
   "execution_count": 16,
   "id": "2041989d",
   "metadata": {
    "execution": {
     "iopub.execute_input": "2024-09-07T18:06:37.863214Z",
     "iopub.status.busy": "2024-09-07T18:06:37.861764Z",
     "iopub.status.idle": "2024-09-07T18:06:38.375324Z",
     "shell.execute_reply": "2024-09-07T18:06:38.370663Z"
    },
    "papermill": {
     "duration": 0.539813,
     "end_time": "2024-09-07T18:06:38.379931",
     "exception": true,
     "start_time": "2024-09-07T18:06:37.840118",
     "status": "failed"
    },
    "tags": []
   },
   "outputs": [
    {
     "ename": "NameError",
     "evalue": "name 'feature_names' is not defined",
     "output_type": "error",
     "traceback": [
      "\u001b[0;31m---------------------------------------------------------------------------\u001b[0m",
      "\u001b[0;31mNameError\u001b[0m                                 Traceback (most recent call last)",
      "Cell \u001b[0;32mIn[16], line 1\u001b[0m\n\u001b[0;32m----> 1\u001b[0m \u001b[38;5;28mprint\u001b[39m(\u001b[38;5;124mf\u001b[39m\u001b[38;5;124m\"\u001b[39m\u001b[38;5;124mFeature names: \u001b[39m\u001b[38;5;132;01m{\u001b[39;00m\u001b[43mfeature_names\u001b[49m\u001b[38;5;132;01m}\u001b[39;00m\u001b[38;5;124m (Types: \u001b[39m\u001b[38;5;132;01m{\u001b[39;00m[\u001b[38;5;28mtype\u001b[39m(name)\u001b[38;5;250m \u001b[39m\u001b[38;5;28;01mfor\u001b[39;00m\u001b[38;5;250m \u001b[39mname\u001b[38;5;250m \u001b[39m\u001b[38;5;129;01min\u001b[39;00m\u001b[38;5;250m \u001b[39mx_train\u001b[38;5;241m.\u001b[39mcolumns\u001b[38;5;241m.\u001b[39mtolist()]\u001b[38;5;132;01m}\u001b[39;00m\u001b[38;5;124m)\u001b[39m\u001b[38;5;124m\"\u001b[39m)\n\u001b[1;32m      2\u001b[0m \u001b[38;5;28mprint\u001b[39m(\u001b[38;5;124mf\u001b[39m\u001b[38;5;124m\"\u001b[39m\u001b[38;5;124mClass names: \u001b[39m\u001b[38;5;132;01m{\u001b[39;00mclass_names\u001b[38;5;132;01m}\u001b[39;00m\u001b[38;5;124m (Types: \u001b[39m\u001b[38;5;132;01m{\u001b[39;00m[\u001b[38;5;28mtype\u001b[39m(name)\u001b[38;5;250m \u001b[39m\u001b[38;5;28;01mfor\u001b[39;00m\u001b[38;5;250m \u001b[39mname\u001b[38;5;250m \u001b[39m\u001b[38;5;129;01min\u001b[39;00m\u001b[38;5;250m \u001b[39mmodel\u001b[38;5;241m.\u001b[39mclasses_]\u001b[38;5;132;01m}\u001b[39;00m\u001b[38;5;124m)\u001b[39m\u001b[38;5;124m\"\u001b[39m)\n",
      "\u001b[0;31mNameError\u001b[0m: name 'feature_names' is not defined"
     ]
    }
   ],
   "source": [
    "print(f\"Feature names: {feature_names} (Types: {[type(name) for name in x_train.columns.tolist()]})\")\n",
    "print(f\"Class names: {class_names} (Types: {[type(name) for name in model.classes_]})\")"
   ]
  },
  {
   "cell_type": "code",
   "execution_count": null,
   "id": "c9f6175b",
   "metadata": {
    "execution": {
     "iopub.execute_input": "2024-09-07T17:18:14.058237Z",
     "iopub.status.busy": "2024-09-07T17:18:14.057684Z",
     "iopub.status.idle": "2024-09-07T17:18:14.065178Z",
     "shell.execute_reply": "2024-09-07T17:18:14.063765Z",
     "shell.execute_reply.started": "2024-09-07T17:18:14.058195Z"
    },
    "papermill": {
     "duration": null,
     "end_time": null,
     "exception": null,
     "start_time": null,
     "status": "pending"
    },
    "tags": []
   },
   "outputs": [],
   "source": [
    "feature_names = [str(name) for name in x_train.columns.tolist()]\n",
    "class_names = [str(name) for name in model.classes_]"
   ]
  },
  {
   "cell_type": "code",
   "execution_count": null,
   "id": "da84e599",
   "metadata": {
    "execution": {
     "iopub.execute_input": "2024-09-07T17:18:20.556396Z",
     "iopub.status.busy": "2024-09-07T17:18:20.556014Z",
     "iopub.status.idle": "2024-09-07T17:18:20.562974Z",
     "shell.execute_reply": "2024-09-07T17:18:20.561817Z",
     "shell.execute_reply.started": "2024-09-07T17:18:20.556368Z"
    },
    "papermill": {
     "duration": null,
     "end_time": null,
     "exception": null,
     "start_time": null,
     "status": "pending"
    },
    "tags": []
   },
   "outputs": [],
   "source": [
    "print(f\"Feature names: {feature_names} (Types: {[type(name) for name in feature_names]})\")\n",
    "print(f\"Class names: {class_names} (Types: {[type(name) for name in class_names]})\")"
   ]
  },
  {
   "cell_type": "code",
   "execution_count": null,
   "id": "040e9f9c",
   "metadata": {
    "execution": {
     "iopub.execute_input": "2024-09-07T17:18:23.632675Z",
     "iopub.status.busy": "2024-09-07T17:18:23.632210Z"
    },
    "papermill": {
     "duration": null,
     "end_time": null,
     "exception": null,
     "start_time": null,
     "status": "pending"
    },
    "tags": []
   },
   "outputs": [],
   "source": [
    "plt.figure(figsize=(12,15))  # Set the figure size for better readability\n",
    "plot_tree(model,\n",
    "          filled=True,           # Fill nodes with colors based on classes\n",
    "          feature_names=feature_names,  # Show feature names\n",
    "          class_names=class_names,  # Show class names\n",
    "          rounded=True,\n",
    "         fontsize=10) \n",
    "plt.show()"
   ]
  },
  {
   "cell_type": "markdown",
   "id": "4f123873",
   "metadata": {
    "papermill": {
     "duration": null,
     "end_time": null,
     "exception": null,
     "start_time": null,
     "status": "pending"
    },
    "tags": []
   },
   "source": [
    "# Using Random forest"
   ]
  },
  {
   "cell_type": "code",
   "execution_count": null,
   "id": "4330722b",
   "metadata": {
    "execution": {
     "iopub.execute_input": "2024-09-07T17:18:39.643703Z",
     "iopub.status.busy": "2024-09-07T17:18:39.643203Z",
     "iopub.status.idle": "2024-09-07T17:18:39.724045Z",
     "shell.execute_reply": "2024-09-07T17:18:39.722708Z",
     "shell.execute_reply.started": "2024-09-07T17:18:39.643668Z"
    },
    "papermill": {
     "duration": null,
     "end_time": null,
     "exception": null,
     "start_time": null,
     "status": "pending"
    },
    "tags": []
   },
   "outputs": [],
   "source": [
    "from sklearn.ensemble import RandomForestClassifier"
   ]
  },
  {
   "cell_type": "code",
   "execution_count": null,
   "id": "4d4bd2af",
   "metadata": {
    "execution": {
     "iopub.execute_input": "2024-09-07T17:22:38.732652Z",
     "iopub.status.busy": "2024-09-07T17:22:38.732204Z",
     "iopub.status.idle": "2024-09-07T17:22:38.738249Z",
     "shell.execute_reply": "2024-09-07T17:22:38.737091Z",
     "shell.execute_reply.started": "2024-09-07T17:22:38.732619Z"
    },
    "papermill": {
     "duration": null,
     "end_time": null,
     "exception": null,
     "start_time": null,
     "status": "pending"
    },
    "tags": []
   },
   "outputs": [],
   "source": [
    "rf=RandomForestClassifier(n_estimators=100,bootstrap=True)"
   ]
  },
  {
   "cell_type": "code",
   "execution_count": null,
   "id": "99c96fe4",
   "metadata": {
    "execution": {
     "iopub.execute_input": "2024-09-07T17:22:39.474169Z",
     "iopub.status.busy": "2024-09-07T17:22:39.473745Z",
     "iopub.status.idle": "2024-09-07T17:22:39.974357Z",
     "shell.execute_reply": "2024-09-07T17:22:39.972783Z",
     "shell.execute_reply.started": "2024-09-07T17:22:39.474136Z"
    },
    "papermill": {
     "duration": null,
     "end_time": null,
     "exception": null,
     "start_time": null,
     "status": "pending"
    },
    "tags": []
   },
   "outputs": [],
   "source": [
    "rf.fit(x_train,y_train)"
   ]
  },
  {
   "cell_type": "code",
   "execution_count": null,
   "id": "3a580105",
   "metadata": {
    "execution": {
     "iopub.execute_input": "2024-09-07T17:22:40.732353Z",
     "iopub.status.busy": "2024-09-07T17:22:40.731939Z",
     "iopub.status.idle": "2024-09-07T17:22:40.761872Z",
     "shell.execute_reply": "2024-09-07T17:22:40.760783Z",
     "shell.execute_reply.started": "2024-09-07T17:22:40.732321Z"
    },
    "papermill": {
     "duration": null,
     "end_time": null,
     "exception": null,
     "start_time": null,
     "status": "pending"
    },
    "tags": []
   },
   "outputs": [],
   "source": [
    "y_pred2=rf.predict(x_test)"
   ]
  },
  {
   "cell_type": "code",
   "execution_count": null,
   "id": "71aefc54",
   "metadata": {
    "execution": {
     "iopub.execute_input": "2024-09-07T17:22:41.792234Z",
     "iopub.status.busy": "2024-09-07T17:22:41.791848Z",
     "iopub.status.idle": "2024-09-07T17:22:41.801779Z",
     "shell.execute_reply": "2024-09-07T17:22:41.800520Z",
     "shell.execute_reply.started": "2024-09-07T17:22:41.792205Z"
    },
    "papermill": {
     "duration": null,
     "end_time": null,
     "exception": null,
     "start_time": null,
     "status": "pending"
    },
    "tags": []
   },
   "outputs": [],
   "source": [
    "accuracy_score(y_test,y_pred2)"
   ]
  },
  {
   "cell_type": "code",
   "execution_count": null,
   "id": "687afe1d",
   "metadata": {
    "execution": {
     "iopub.execute_input": "2024-09-07T17:21:01.612370Z",
     "iopub.status.busy": "2024-09-07T17:21:01.611977Z",
     "iopub.status.idle": "2024-09-07T17:21:01.618326Z",
     "shell.execute_reply": "2024-09-07T17:21:01.617025Z",
     "shell.execute_reply.started": "2024-09-07T17:21:01.612340Z"
    },
    "papermill": {
     "duration": null,
     "end_time": null,
     "exception": null,
     "start_time": null,
     "status": "pending"
    },
    "tags": []
   },
   "outputs": [],
   "source": [
    "from sklearn.metrics import classification_report,confusion_matrix"
   ]
  },
  {
   "cell_type": "code",
   "execution_count": null,
   "id": "70ca2d33",
   "metadata": {
    "execution": {
     "iopub.execute_input": "2024-09-07T17:28:02.533445Z",
     "iopub.status.busy": "2024-09-07T17:28:02.532943Z",
     "iopub.status.idle": "2024-09-07T17:28:02.553008Z",
     "shell.execute_reply": "2024-09-07T17:28:02.551578Z",
     "shell.execute_reply.started": "2024-09-07T17:28:02.533407Z"
    },
    "papermill": {
     "duration": null,
     "end_time": null,
     "exception": null,
     "start_time": null,
     "status": "pending"
    },
    "tags": []
   },
   "outputs": [],
   "source": [
    "report=classification_report(y_test,y_pred2)\n",
    "print(report)"
   ]
  },
  {
   "cell_type": "code",
   "execution_count": null,
   "id": "5e00d4c0",
   "metadata": {
    "execution": {
     "iopub.execute_input": "2024-09-07T17:28:26.725070Z",
     "iopub.status.busy": "2024-09-07T17:28:26.724643Z",
     "iopub.status.idle": "2024-09-07T17:28:26.734974Z",
     "shell.execute_reply": "2024-09-07T17:28:26.733797Z",
     "shell.execute_reply.started": "2024-09-07T17:28:26.725039Z"
    },
    "papermill": {
     "duration": null,
     "end_time": null,
     "exception": null,
     "start_time": null,
     "status": "pending"
    },
    "tags": []
   },
   "outputs": [],
   "source": [
    "confusion_matrix(y_test,y_pred2)"
   ]
  },
  {
   "cell_type": "code",
   "execution_count": null,
   "id": "d9c24592",
   "metadata": {
    "execution": {
     "iopub.execute_input": "2024-09-07T17:20:22.384584Z",
     "iopub.status.busy": "2024-09-07T17:20:22.384172Z",
     "iopub.status.idle": "2024-09-07T17:20:22.394611Z",
     "shell.execute_reply": "2024-09-07T17:20:22.393390Z",
     "shell.execute_reply.started": "2024-09-07T17:20:22.384554Z"
    },
    "papermill": {
     "duration": null,
     "end_time": null,
     "exception": null,
     "start_time": null,
     "status": "pending"
    },
    "tags": []
   },
   "outputs": [],
   "source": [
    "df_train.iloc[:,20].value_counts()"
   ]
  },
  {
   "cell_type": "markdown",
   "id": "8d6dd767",
   "metadata": {
    "papermill": {
     "duration": null,
     "end_time": null,
     "exception": null,
     "start_time": null,
     "status": "pending"
    },
    "tags": []
   },
   "source": [
    "# Using XGBoost"
   ]
  },
  {
   "cell_type": "code",
   "execution_count": null,
   "id": "466400a8",
   "metadata": {
    "execution": {
     "iopub.execute_input": "2024-09-07T18:05:45.451609Z",
     "iopub.status.busy": "2024-09-07T18:05:45.451141Z",
     "iopub.status.idle": "2024-09-07T18:05:45.457872Z",
     "shell.execute_reply": "2024-09-07T18:05:45.456278Z",
     "shell.execute_reply.started": "2024-09-07T18:05:45.451572Z"
    },
    "papermill": {
     "duration": null,
     "end_time": null,
     "exception": null,
     "start_time": null,
     "status": "pending"
    },
    "tags": []
   },
   "outputs": [],
   "source": [
    "import xgboost as xgb\n",
    "xg = xgb.XGBClassifier(n_estimators=150, max_depth=8, learning_rate=0.1, subsample=0.8)"
   ]
  },
  {
   "cell_type": "code",
   "execution_count": null,
   "id": "1a3b4c22",
   "metadata": {
    "execution": {
     "iopub.execute_input": "2024-09-07T18:05:46.751934Z",
     "iopub.status.busy": "2024-09-07T18:05:46.751468Z",
     "iopub.status.idle": "2024-09-07T18:05:47.359467Z",
     "shell.execute_reply": "2024-09-07T18:05:47.358569Z",
     "shell.execute_reply.started": "2024-09-07T18:05:46.751903Z"
    },
    "papermill": {
     "duration": null,
     "end_time": null,
     "exception": null,
     "start_time": null,
     "status": "pending"
    },
    "tags": []
   },
   "outputs": [],
   "source": [
    "xg.fit(x_train,y_train)"
   ]
  },
  {
   "cell_type": "code",
   "execution_count": null,
   "id": "7406fac3",
   "metadata": {
    "execution": {
     "iopub.execute_input": "2024-09-07T18:05:49.351021Z",
     "iopub.status.busy": "2024-09-07T18:05:49.350537Z",
     "iopub.status.idle": "2024-09-07T18:05:49.369158Z",
     "shell.execute_reply": "2024-09-07T18:05:49.367942Z",
     "shell.execute_reply.started": "2024-09-07T18:05:49.350990Z"
    },
    "papermill": {
     "duration": null,
     "end_time": null,
     "exception": null,
     "start_time": null,
     "status": "pending"
    },
    "tags": []
   },
   "outputs": [],
   "source": [
    "y_pred3 = xg.predict(x_test)"
   ]
  },
  {
   "cell_type": "code",
   "execution_count": null,
   "id": "a92540af",
   "metadata": {
    "execution": {
     "iopub.execute_input": "2024-09-07T18:05:49.682043Z",
     "iopub.status.busy": "2024-09-07T18:05:49.681610Z",
     "iopub.status.idle": "2024-09-07T18:05:49.690352Z",
     "shell.execute_reply": "2024-09-07T18:05:49.689112Z",
     "shell.execute_reply.started": "2024-09-07T18:05:49.682009Z"
    },
    "papermill": {
     "duration": null,
     "end_time": null,
     "exception": null,
     "start_time": null,
     "status": "pending"
    },
    "tags": []
   },
   "outputs": [],
   "source": [
    "accuracy = accuracy_score(y_test, y_pred3)\n",
    "print(f'Accuracy: {accuracy}')"
   ]
  },
  {
   "cell_type": "markdown",
   "id": "47597c77",
   "metadata": {
    "papermill": {
     "duration": null,
     "end_time": null,
     "exception": null,
     "start_time": null,
     "status": "pending"
    },
    "tags": []
   },
   "source": [
    "# Using Grid Search CV"
   ]
  },
  {
   "cell_type": "code",
   "execution_count": null,
   "id": "9f22c462",
   "metadata": {
    "execution": {
     "iopub.execute_input": "2024-09-07T17:51:29.545037Z",
     "iopub.status.busy": "2024-09-07T17:51:29.544634Z",
     "iopub.status.idle": "2024-09-07T17:51:29.552129Z",
     "shell.execute_reply": "2024-09-07T17:51:29.550683Z",
     "shell.execute_reply.started": "2024-09-07T17:51:29.545008Z"
    },
    "papermill": {
     "duration": null,
     "end_time": null,
     "exception": null,
     "start_time": null,
     "status": "pending"
    },
    "tags": []
   },
   "outputs": [],
   "source": [
    "from sklearn.model_selection import GridSearchCV\n",
    "param_grid = {\n",
    "    'n_estimators': [100, 200, 300],\n",
    "    'max_depth': [3, 5, 7],\n",
    "    'learning_rate': [0.01, 0.1, 0.3],\n",
    "    'subsample': [0.7, 0.8, 1],\n",
    "    'colsample_bytree': [0.7, 0.8, 1]\n",
    "}"
   ]
  },
  {
   "cell_type": "code",
   "execution_count": null,
   "id": "ba90c6aa",
   "metadata": {
    "execution": {
     "iopub.execute_input": "2024-09-07T17:51:57.185426Z",
     "iopub.status.busy": "2024-09-07T17:51:57.184356Z",
     "iopub.status.idle": "2024-09-07T18:03:49.505153Z",
     "shell.execute_reply": "2024-09-07T18:03:49.503607Z",
     "shell.execute_reply.started": "2024-09-07T17:51:57.185390Z"
    },
    "papermill": {
     "duration": null,
     "end_time": null,
     "exception": null,
     "start_time": null,
     "status": "pending"
    },
    "tags": []
   },
   "outputs": [],
   "source": [
    "grid_search = GridSearchCV(estimator=xg, param_grid=param_grid, scoring='accuracy', cv=5)\n",
    "grid_search.fit(x_train, y_train)\n",
    "print(f\"Best parameters: {grid_search.best_params_}\")"
   ]
  },
  {
   "cell_type": "code",
   "execution_count": null,
   "id": "ad0acf96",
   "metadata": {
    "execution": {
     "iopub.execute_input": "2024-09-07T18:06:01.175564Z",
     "iopub.status.busy": "2024-09-07T18:06:01.175115Z",
     "iopub.status.idle": "2024-09-07T18:06:01.806626Z",
     "shell.execute_reply": "2024-09-07T18:06:01.805670Z",
     "shell.execute_reply.started": "2024-09-07T18:06:01.175518Z"
    },
    "papermill": {
     "duration": null,
     "end_time": null,
     "exception": null,
     "start_time": null,
     "status": "pending"
    },
    "tags": []
   },
   "outputs": [],
   "source": [
    "best_model = xgb.XGBClassifier(**grid_search.best_params_)\n",
    "best_model.fit(x_train, y_train)\n",
    "y_pred4 = best_model.predict(x_test)\n",
    "accuracy = accuracy_score(y_test, y_pred4)\n",
    "print(f'Accuracy after tuning: {accuracy}')"
   ]
  },
  {
   "cell_type": "code",
   "execution_count": null,
   "id": "cf857fa4",
   "metadata": {
    "execution": {
     "iopub.execute_input": "2024-09-07T18:06:04.818385Z",
     "iopub.status.busy": "2024-09-07T18:06:04.816700Z",
     "iopub.status.idle": "2024-09-07T18:06:04.825444Z",
     "shell.execute_reply": "2024-09-07T18:06:04.823359Z",
     "shell.execute_reply.started": "2024-09-07T18:06:04.818330Z"
    },
    "papermill": {
     "duration": null,
     "end_time": null,
     "exception": null,
     "start_time": null,
     "status": "pending"
    },
    "tags": []
   },
   "outputs": [],
   "source": [
    "xg = xgb.XGBClassifier(colsample_bytree= 0.7, learning_rate=0.1, max_depth=3, n_estimators= 300, subsample= 0.7)"
   ]
  },
  {
   "cell_type": "code",
   "execution_count": null,
   "id": "e0adb100",
   "metadata": {
    "execution": {
     "iopub.execute_input": "2024-09-07T18:06:07.209622Z",
     "iopub.status.busy": "2024-09-07T18:06:07.209219Z",
     "iopub.status.idle": "2024-09-07T18:06:07.831168Z",
     "shell.execute_reply": "2024-09-07T18:06:07.830189Z",
     "shell.execute_reply.started": "2024-09-07T18:06:07.209593Z"
    },
    "papermill": {
     "duration": null,
     "end_time": null,
     "exception": null,
     "start_time": null,
     "status": "pending"
    },
    "tags": []
   },
   "outputs": [],
   "source": [
    "xg.fit(x_train,y_train)\n",
    "y_pred5 = xg.predict(x_test)\n",
    "accuracy = accuracy_score(y_test, y_pred3)\n",
    "print(f'Accuracy: {accuracy}')"
   ]
  },
  {
   "cell_type": "code",
   "execution_count": null,
   "id": "ef6f87d9",
   "metadata": {
    "papermill": {
     "duration": null,
     "end_time": null,
     "exception": null,
     "start_time": null,
     "status": "pending"
    },
    "tags": []
   },
   "outputs": [],
   "source": []
  }
 ],
 "metadata": {
  "kaggle": {
   "accelerator": "none",
   "dataSources": [
    {
     "datasetId": 5461486,
     "sourceId": 9057325,
     "sourceType": "datasetVersion"
    }
   ],
   "dockerImageVersionId": 30746,
   "isGpuEnabled": false,
   "isInternetEnabled": false,
   "language": "python",
   "sourceType": "notebook"
  },
  "kernelspec": {
   "display_name": "Python 3",
   "language": "python",
   "name": "python3"
  },
  "language_info": {
   "codemirror_mode": {
    "name": "ipython",
    "version": 3
   },
   "file_extension": ".py",
   "mimetype": "text/x-python",
   "name": "python",
   "nbconvert_exporter": "python",
   "pygments_lexer": "ipython3",
   "version": "3.10.13"
  },
  "papermill": {
   "default_parameters": {},
   "duration": 9.44936,
   "end_time": "2024-09-07T18:06:39.120462",
   "environment_variables": {},
   "exception": true,
   "input_path": "__notebook__.ipynb",
   "output_path": "__notebook__.ipynb",
   "parameters": {},
   "start_time": "2024-09-07T18:06:29.671102",
   "version": "2.5.0"
  }
 },
 "nbformat": 4,
 "nbformat_minor": 5
}
